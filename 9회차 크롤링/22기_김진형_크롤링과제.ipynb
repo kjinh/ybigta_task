{
 "cells": [
  {
   "cell_type": "code",
   "execution_count": 62,
   "metadata": {},
   "outputs": [
    {
     "name": "stdout",
     "output_type": "stream",
     "text": [
      "<Response [200]>\n"
     ]
    }
   ],
   "source": [
    "import requests\n",
    "\n",
    "url = 'https://www.yonsei.ac.kr/sc/support/calendar.jsp'\n",
    "res = requests.get(url)\n",
    "\n",
    "print(res) # 응답 객체\n",
    "html = res.text # HTML 텍스트"
   ]
  },
  {
   "cell_type": "code",
   "execution_count": 63,
   "metadata": {},
   "outputs": [],
   "source": [
    "from bs4 import BeautifulSoup\n",
    "soup = BeautifulSoup(html, 'html.parser') "
   ]
  },
  {
   "cell_type": "code",
   "execution_count": 139,
   "metadata": {},
   "outputs": [],
   "source": [
    "months = ['02 FEB','02 FEB','02 FEB','02 FEB','02 FEB','02 FEB','03 MAR','03 MAR','03 MAR','03 MAR','03 MAR','03 MAR','04 APR','04 APR','04 APR','04 APR','04 APR','04 APR','04 APR','05 MAY','05 MAY','05 MAY','05 MAY','05 MAY','05 MAY','05 MAY','05 MAY','06 JUN','06 JUN','06 JUN','06 JUN','06 JUN','06 JUN','06 JUN','06 JUN','06 JUN','07 JUL','08 AUG','08 AUG','08 AUG','08 AUG','08 AUG']"
   ]
  },
  {
   "cell_type": "code",
   "execution_count": 136,
   "metadata": {},
   "outputs": [],
   "source": [
    "events = []\n",
    "days = []\n",
    "num = 0\n",
    "for link in soup.find_all('td'):\n",
    "    if num % 2 == 0:\n",
    "        day = link.text.strip()\n",
    "        days.append(day)\n",
    "    else:\n",
    "        event = link.text.strip()\n",
    "        events.append(event)\n",
    "    num += 1\n"
   ]
  },
  {
   "cell_type": "code",
   "execution_count": 140,
   "metadata": {},
   "outputs": [
    {
     "name": "stderr",
     "output_type": "stream",
     "text": [
      "/var/folders/bz/v_kxy24n1j5_bbycr1kyq4xh0000gn/T/ipykernel_36706/917852673.py:9: FutureWarning: this method is deprecated in favour of `Styler.hide(axis='index')`\n",
      "  df.style.hide_index()\n"
     ]
    },
    {
     "data": {
      "text/html": [
       "<style type=\"text/css\">\n",
       "</style>\n",
       "<table id=\"T_8aa78\">\n",
       "  <thead>\n",
       "    <tr>\n",
       "      <th id=\"T_8aa78_level0_col0\" class=\"col_heading level0 col0\" >달</th>\n",
       "      <th id=\"T_8aa78_level0_col1\" class=\"col_heading level0 col1\" >날짜</th>\n",
       "      <th id=\"T_8aa78_level0_col2\" class=\"col_heading level0 col2\" >일정</th>\n",
       "    </tr>\n",
       "  </thead>\n",
       "  <tbody>\n",
       "    <tr>\n",
       "      <td id=\"T_8aa78_row0_col0\" class=\"data row0 col0\" >02 FEB</td>\n",
       "      <td id=\"T_8aa78_row0_col1\" class=\"data row0 col1\" >1(수)</td>\n",
       "      <td id=\"T_8aa78_row0_col2\" class=\"data row0 col2\" >휴 · 복학 접수 시작</td>\n",
       "    </tr>\n",
       "    <tr>\n",
       "      <td id=\"T_8aa78_row1_col0\" class=\"data row1 col0\" >02 FEB</td>\n",
       "      <td id=\"T_8aa78_row1_col1\" class=\"data row1 col1\" >13(월)~17(금)</td>\n",
       "      <td id=\"T_8aa78_row1_col2\" class=\"data row1 col2\" >2023-1학기 수강신청</td>\n",
       "    </tr>\n",
       "    <tr>\n",
       "      <td id=\"T_8aa78_row2_col0\" class=\"data row2 col0\" >02 FEB</td>\n",
       "      <td id=\"T_8aa78_row2_col1\" class=\"data row2 col1\" >17(금)~23(목)</td>\n",
       "      <td id=\"T_8aa78_row2_col2\" class=\"data row2 col2\" >2023-1학기 등록</td>\n",
       "    </tr>\n",
       "    <tr>\n",
       "      <td id=\"T_8aa78_row3_col0\" class=\"data row3 col0\" >02 FEB</td>\n",
       "      <td id=\"T_8aa78_row3_col1\" class=\"data row3 col1\" >22(수)</td>\n",
       "      <td id=\"T_8aa78_row3_col2\" class=\"data row3 col2\" >복학 접수 마감</td>\n",
       "    </tr>\n",
       "    <tr>\n",
       "      <td id=\"T_8aa78_row4_col0\" class=\"data row4 col0\" >02 FEB</td>\n",
       "      <td id=\"T_8aa78_row4_col1\" class=\"data row4 col1\" >26(일)</td>\n",
       "      <td id=\"T_8aa78_row4_col2\" class=\"data row4 col2\" >졸업예배</td>\n",
       "    </tr>\n",
       "    <tr>\n",
       "      <td id=\"T_8aa78_row5_col0\" class=\"data row5 col0\" >02 FEB</td>\n",
       "      <td id=\"T_8aa78_row5_col1\" class=\"data row5 col1\" >27(월)</td>\n",
       "      <td id=\"T_8aa78_row5_col2\" class=\"data row5 col2\" >학위수여식</td>\n",
       "    </tr>\n",
       "    <tr>\n",
       "      <td id=\"T_8aa78_row6_col0\" class=\"data row6 col0\" >03 MAR</td>\n",
       "      <td id=\"T_8aa78_row6_col1\" class=\"data row6 col1\" >1(수)</td>\n",
       "      <td id=\"T_8aa78_row6_col2\" class=\"data row6 col2\" >삼일절</td>\n",
       "    </tr>\n",
       "    <tr>\n",
       "      <td id=\"T_8aa78_row7_col0\" class=\"data row7 col0\" >03 MAR</td>\n",
       "      <td id=\"T_8aa78_row7_col1\" class=\"data row7 col1\" >2(목)</td>\n",
       "      <td id=\"T_8aa78_row7_col2\" class=\"data row7 col2\" >개강 / 교무위원회</td>\n",
       "    </tr>\n",
       "    <tr>\n",
       "      <td id=\"T_8aa78_row8_col0\" class=\"data row8 col0\" >03 MAR</td>\n",
       "      <td id=\"T_8aa78_row8_col1\" class=\"data row8 col1\" >6(월)~8(수)</td>\n",
       "      <td id=\"T_8aa78_row8_col2\" class=\"data row8 col2\" >수강신청 확인 및 변경</td>\n",
       "    </tr>\n",
       "    <tr>\n",
       "      <td id=\"T_8aa78_row9_col0\" class=\"data row9 col0\" >03 MAR</td>\n",
       "      <td id=\"T_8aa78_row9_col1\" class=\"data row9 col1\" >10(금)~13(월)</td>\n",
       "      <td id=\"T_8aa78_row9_col2\" class=\"data row9 col2\" >2023-1학기 추가등록</td>\n",
       "    </tr>\n",
       "    <tr>\n",
       "      <td id=\"T_8aa78_row10_col0\" class=\"data row10 col0\" >03 MAR</td>\n",
       "      <td id=\"T_8aa78_row10_col1\" class=\"data row10 col1\" >13(월)~17(금)</td>\n",
       "      <td id=\"T_8aa78_row10_col2\" class=\"data row10 col2\" >조기졸업 신청</td>\n",
       "    </tr>\n",
       "    <tr>\n",
       "      <td id=\"T_8aa78_row11_col0\" class=\"data row11 col0\" >03 MAR</td>\n",
       "      <td id=\"T_8aa78_row11_col1\" class=\"data row11 col1\" >15(수)</td>\n",
       "      <td id=\"T_8aa78_row11_col2\" class=\"data row11 col2\" >미등록자 일반 휴학 접수 마감 / 등록금 전액반환 마감</td>\n",
       "    </tr>\n",
       "    <tr>\n",
       "      <td id=\"T_8aa78_row12_col0\" class=\"data row12 col0\" >04 APR</td>\n",
       "      <td id=\"T_8aa78_row12_col1\" class=\"data row12 col1\" >6(목)</td>\n",
       "      <td id=\"T_8aa78_row12_col2\" class=\"data row12 col2\" >교무위원회</td>\n",
       "    </tr>\n",
       "    <tr>\n",
       "      <td id=\"T_8aa78_row13_col0\" class=\"data row13 col0\" >04 APR</td>\n",
       "      <td id=\"T_8aa78_row13_col1\" class=\"data row13 col1\" >7(금)</td>\n",
       "      <td id=\"T_8aa78_row13_col2\" class=\"data row13 col2\" >학기 1/3선</td>\n",
       "    </tr>\n",
       "    <tr>\n",
       "      <td id=\"T_8aa78_row14_col0\" class=\"data row14 col0\" >04 APR</td>\n",
       "      <td id=\"T_8aa78_row14_col1\" class=\"data row14 col1\" >9(일)~15(토)</td>\n",
       "      <td id=\"T_8aa78_row14_col2\" class=\"data row14 col2\" >고난주간</td>\n",
       "    </tr>\n",
       "    <tr>\n",
       "      <td id=\"T_8aa78_row15_col0\" class=\"data row15 col0\" >04 APR</td>\n",
       "      <td id=\"T_8aa78_row15_col1\" class=\"data row15 col1\" >9(일)</td>\n",
       "      <td id=\"T_8aa78_row15_col2\" class=\"data row15 col2\" >부활절</td>\n",
       "    </tr>\n",
       "    <tr>\n",
       "      <td id=\"T_8aa78_row16_col0\" class=\"data row16 col0\" >04 APR</td>\n",
       "      <td id=\"T_8aa78_row16_col1\" class=\"data row16 col1\" >20(목)~26(수)</td>\n",
       "      <td id=\"T_8aa78_row16_col2\" class=\"data row16 col2\" >중간시험</td>\n",
       "    </tr>\n",
       "    <tr>\n",
       "      <td id=\"T_8aa78_row17_col0\" class=\"data row17 col0\" >04 APR</td>\n",
       "      <td id=\"T_8aa78_row17_col1\" class=\"data row17 col1\" >27(목)~5.3(수)</td>\n",
       "      <td id=\"T_8aa78_row17_col2\" class=\"data row17 col2\" >2023-2학기 캠퍼스내 소속변경 신청</td>\n",
       "    </tr>\n",
       "    <tr>\n",
       "      <td id=\"T_8aa78_row18_col0\" class=\"data row18 col0\" >04 APR</td>\n",
       "      <td id=\"T_8aa78_row18_col1\" class=\"data row18 col1\" >27(목)~5.1(월)</td>\n",
       "      <td id=\"T_8aa78_row18_col2\" class=\"data row18 col2\" >수강철회</td>\n",
       "    </tr>\n",
       "    <tr>\n",
       "      <td id=\"T_8aa78_row19_col0\" class=\"data row19 col0\" >05 MAY</td>\n",
       "      <td id=\"T_8aa78_row19_col1\" class=\"data row19 col1\" >1(월)</td>\n",
       "      <td id=\"T_8aa78_row19_col2\" class=\"data row19 col2\" >근로자의 날</td>\n",
       "    </tr>\n",
       "    <tr>\n",
       "      <td id=\"T_8aa78_row20_col0\" class=\"data row20 col0\" >05 MAY</td>\n",
       "      <td id=\"T_8aa78_row20_col1\" class=\"data row20 col1\" >2(화)~4(목)</td>\n",
       "      <td id=\"T_8aa78_row20_col2\" class=\"data row20 col2\" >S/U평가 신청</td>\n",
       "    </tr>\n",
       "    <tr>\n",
       "      <td id=\"T_8aa78_row21_col0\" class=\"data row21 col0\" >05 MAY</td>\n",
       "      <td id=\"T_8aa78_row21_col1\" class=\"data row21 col1\" >4(목)</td>\n",
       "      <td id=\"T_8aa78_row21_col2\" class=\"data row21 col2\" >교무위원회</td>\n",
       "    </tr>\n",
       "    <tr>\n",
       "      <td id=\"T_8aa78_row22_col0\" class=\"data row22 col0\" >05 MAY</td>\n",
       "      <td id=\"T_8aa78_row22_col1\" class=\"data row22 col1\" >5(금)</td>\n",
       "      <td id=\"T_8aa78_row22_col2\" class=\"data row22 col2\" >어린이날</td>\n",
       "    </tr>\n",
       "    <tr>\n",
       "      <td id=\"T_8aa78_row23_col0\" class=\"data row23 col0\" >05 MAY</td>\n",
       "      <td id=\"T_8aa78_row23_col1\" class=\"data row23 col1\" >10(수)</td>\n",
       "      <td id=\"T_8aa78_row23_col2\" class=\"data row23 col2\" >은퇴교수의 날</td>\n",
       "    </tr>\n",
       "    <tr>\n",
       "      <td id=\"T_8aa78_row24_col0\" class=\"data row24 col0\" >05 MAY</td>\n",
       "      <td id=\"T_8aa78_row24_col1\" class=\"data row24 col1\" >13(토)</td>\n",
       "      <td id=\"T_8aa78_row24_col2\" class=\"data row24 col2\" >창립기념일</td>\n",
       "    </tr>\n",
       "    <tr>\n",
       "      <td id=\"T_8aa78_row25_col0\" class=\"data row25 col0\" >05 MAY</td>\n",
       "      <td id=\"T_8aa78_row25_col1\" class=\"data row25 col1\" >15(월)</td>\n",
       "      <td id=\"T_8aa78_row25_col2\" class=\"data row25 col2\" >학기 2/3선 / 일반휴학 접수 마감</td>\n",
       "    </tr>\n",
       "    <tr>\n",
       "      <td id=\"T_8aa78_row26_col0\" class=\"data row26 col0\" >05 MAY</td>\n",
       "      <td id=\"T_8aa78_row26_col1\" class=\"data row26 col1\" >27(토)</td>\n",
       "      <td id=\"T_8aa78_row26_col2\" class=\"data row26 col2\" >부처님 오신 날</td>\n",
       "    </tr>\n",
       "    <tr>\n",
       "      <td id=\"T_8aa78_row27_col0\" class=\"data row27 col0\" >06 JUN</td>\n",
       "      <td id=\"T_8aa78_row27_col1\" class=\"data row27 col1\" >1(목)</td>\n",
       "      <td id=\"T_8aa78_row27_col2\" class=\"data row27 col2\" >교무위원회 / 질병휴학 접수 마감</td>\n",
       "    </tr>\n",
       "    <tr>\n",
       "      <td id=\"T_8aa78_row28_col0\" class=\"data row28 col0\" >06 JUN</td>\n",
       "      <td id=\"T_8aa78_row28_col1\" class=\"data row28 col1\" >4(일)</td>\n",
       "      <td id=\"T_8aa78_row28_col2\" class=\"data row28 col2\" >성령강림일</td>\n",
       "    </tr>\n",
       "    <tr>\n",
       "      <td id=\"T_8aa78_row29_col0\" class=\"data row29 col0\" >06 JUN</td>\n",
       "      <td id=\"T_8aa78_row29_col1\" class=\"data row29 col1\" >6(화)</td>\n",
       "      <td id=\"T_8aa78_row29_col2\" class=\"data row29 col2\" >현충일</td>\n",
       "    </tr>\n",
       "    <tr>\n",
       "      <td id=\"T_8aa78_row30_col0\" class=\"data row30 col0\" >06 JUN</td>\n",
       "      <td id=\"T_8aa78_row30_col1\" class=\"data row30 col1\" >8(목)~14(수)</td>\n",
       "      <td id=\"T_8aa78_row30_col2\" class=\"data row30 col2\" >자율학습 및 보충수업 기간</td>\n",
       "    </tr>\n",
       "    <tr>\n",
       "      <td id=\"T_8aa78_row31_col0\" class=\"data row31 col0\" >06 JUN</td>\n",
       "      <td id=\"T_8aa78_row31_col1\" class=\"data row31 col1\" >15(목)~21(수)</td>\n",
       "      <td id=\"T_8aa78_row31_col2\" class=\"data row31 col2\" >학기말 시험</td>\n",
       "    </tr>\n",
       "    <tr>\n",
       "      <td id=\"T_8aa78_row32_col0\" class=\"data row32 col0\" >06 JUN</td>\n",
       "      <td id=\"T_8aa78_row32_col1\" class=\"data row32 col1\" >22(목)</td>\n",
       "      <td id=\"T_8aa78_row32_col2\" class=\"data row32 col2\" >여름방학 시작</td>\n",
       "    </tr>\n",
       "    <tr>\n",
       "      <td id=\"T_8aa78_row33_col0\" class=\"data row33 col0\" >06 JUN</td>\n",
       "      <td id=\"T_8aa78_row33_col1\" class=\"data row33 col1\" >22(목)~28(수)</td>\n",
       "      <td id=\"T_8aa78_row33_col2\" class=\"data row33 col2\" >2023-2학기 캠퍼스내 복수전공 · 연계전공 신청</td>\n",
       "    </tr>\n",
       "    <tr>\n",
       "      <td id=\"T_8aa78_row34_col0\" class=\"data row34 col0\" >06 JUN</td>\n",
       "      <td id=\"T_8aa78_row34_col1\" class=\"data row34 col1\" >26(월)</td>\n",
       "      <td id=\"T_8aa78_row34_col2\" class=\"data row34 col2\" >여름계절제 수업 시작</td>\n",
       "    </tr>\n",
       "    <tr>\n",
       "      <td id=\"T_8aa78_row35_col0\" class=\"data row35 col0\" >06 JUN</td>\n",
       "      <td id=\"T_8aa78_row35_col1\" class=\"data row35 col1\" >28(수)</td>\n",
       "      <td id=\"T_8aa78_row35_col2\" class=\"data row35 col2\" >2023-1학기 성적제출 마감</td>\n",
       "    </tr>\n",
       "    <tr>\n",
       "      <td id=\"T_8aa78_row36_col0\" class=\"data row36 col0\" >07 JUL</td>\n",
       "      <td id=\"T_8aa78_row36_col1\" class=\"data row36 col1\" >17(월)</td>\n",
       "      <td id=\"T_8aa78_row36_col2\" class=\"data row36 col2\" >여름계절제 수업 종료</td>\n",
       "    </tr>\n",
       "    <tr>\n",
       "      <td id=\"T_8aa78_row37_col0\" class=\"data row37 col0\" >08 AUG</td>\n",
       "      <td id=\"T_8aa78_row37_col1\" class=\"data row37 col1\" >1(화)</td>\n",
       "      <td id=\"T_8aa78_row37_col2\" class=\"data row37 col2\" >휴 · 복학 접수 시작</td>\n",
       "    </tr>\n",
       "    <tr>\n",
       "      <td id=\"T_8aa78_row38_col0\" class=\"data row38 col0\" >08 AUG</td>\n",
       "      <td id=\"T_8aa78_row38_col1\" class=\"data row38 col1\" >15(화)</td>\n",
       "      <td id=\"T_8aa78_row38_col2\" class=\"data row38 col2\" >광복절</td>\n",
       "    </tr>\n",
       "    <tr>\n",
       "      <td id=\"T_8aa78_row39_col0\" class=\"data row39 col0\" >08 AUG</td>\n",
       "      <td id=\"T_8aa78_row39_col1\" class=\"data row39 col1\" >16(수)~22(화)</td>\n",
       "      <td id=\"T_8aa78_row39_col2\" class=\"data row39 col2\" >2023-2학기 수강신청</td>\n",
       "    </tr>\n",
       "    <tr>\n",
       "      <td id=\"T_8aa78_row40_col0\" class=\"data row40 col0\" >08 AUG</td>\n",
       "      <td id=\"T_8aa78_row40_col1\" class=\"data row40 col1\" >18(금)~24(목)</td>\n",
       "      <td id=\"T_8aa78_row40_col2\" class=\"data row40 col2\" >2023-2학기 등록</td>\n",
       "    </tr>\n",
       "    <tr>\n",
       "      <td id=\"T_8aa78_row41_col0\" class=\"data row41 col0\" >08 AUG</td>\n",
       "      <td id=\"T_8aa78_row41_col1\" class=\"data row41 col1\" >25(금)</td>\n",
       "      <td id=\"T_8aa78_row41_col2\" class=\"data row41 col2\" >학위수여식 / 복학 접수 마감</td>\n",
       "    </tr>\n",
       "  </tbody>\n",
       "</table>\n"
      ],
      "text/plain": [
       "<pandas.io.formats.style.Styler at 0x7ff56a12e550>"
      ]
     },
     "execution_count": 140,
     "metadata": {},
     "output_type": "execute_result"
    }
   ],
   "source": [
    "import pandas as pd\n",
    "data = {\n",
    "    '달': months,\n",
    "    '날짜': days,\n",
    "    '일정': events\n",
    "}\n",
    "\n",
    "df = pd.DataFrame(data)\n",
    "df.style.hide_index()"
   ]
  },
  {
   "cell_type": "code",
   "execution_count": 141,
   "metadata": {},
   "outputs": [],
   "source": [
    "import selenium\n",
    "from selenium import webdriver\n",
    "\n",
    "driver = webdriver.Chrome()"
   ]
  },
  {
   "cell_type": "code",
   "execution_count": 142,
   "metadata": {},
   "outputs": [],
   "source": [
    "from selenium.webdriver.common.by import By\n",
    "from selenium.webdriver.common.keys import Keys\n",
    "\n",
    "# 해당 URL로 이동\n",
    "driver.get('https://www.naver.com/') \n",
    "\n",
    "# 웹 페이지 요소 로드를 기다림\n",
    "driver.implicitly_wait(5)"
   ]
  },
  {
   "cell_type": "code",
   "execution_count": 143,
   "metadata": {},
   "outputs": [],
   "source": [
    "# XPATH를 이용하여 검색창에 해당하는 요소 찾기\n",
    "search = driver.find_element(By.XPATH, '//*[@id=\"query\"]')"
   ]
  },
  {
   "cell_type": "code",
   "execution_count": 144,
   "metadata": {},
   "outputs": [],
   "source": [
    "# 검색어 입력\n",
    "search.send_keys('고려대학교')"
   ]
  },
  {
   "cell_type": "code",
   "execution_count": 145,
   "metadata": {},
   "outputs": [],
   "source": [
    "# Keys.RETURN = Enter 입력\n",
    "search.send_keys(Keys.RETURN)"
   ]
  },
  {
   "cell_type": "code",
   "execution_count": 146,
   "metadata": {},
   "outputs": [],
   "source": [
    "img = driver.find_element(By.XPATH, '//*[@id=\"main_pack\"]/div[2]/div[2]/div[1]/div/div[2]/a/img')\n",
    "img_url = img.get_attribute('src')"
   ]
  },
  {
   "cell_type": "code",
   "execution_count": 147,
   "metadata": {},
   "outputs": [
    {
     "name": "stdout",
     "output_type": "stream",
     "text": [
      "https://search.pstatic.net/common?type=f&size=174x174&quality=100&direct=true&src=https%3A%2F%2Fldb-phinf.pstatic.net%2F20150831_102%2F1441001184354BvGxq_JPEG%2F11591498_0.jpg\n"
     ]
    }
   ],
   "source": [
    "print(img_url)"
   ]
  }
 ],
 "metadata": {
  "kernelspec": {
   "display_name": "base",
   "language": "python",
   "name": "python3"
  },
  "language_info": {
   "codemirror_mode": {
    "name": "ipython",
    "version": 3
   },
   "file_extension": ".py",
   "mimetype": "text/x-python",
   "name": "python",
   "nbconvert_exporter": "python",
   "pygments_lexer": "ipython3",
   "version": "3.9.13"
  },
  "orig_nbformat": 4,
  "vscode": {
   "interpreter": {
    "hash": "5378254ca7c873922cc2b79f22feab19451a23349a38ab954beb81006e9a66cb"
   }
  }
 },
 "nbformat": 4,
 "nbformat_minor": 2
}
